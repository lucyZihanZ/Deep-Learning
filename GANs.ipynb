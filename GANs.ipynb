{
  "cells": [
    {
      "cell_type": "code",
      "execution_count": 3,
      "metadata": {
        "colab": {
          "base_uri": "https://localhost:8080/"
        },
        "id": "M0E5VDw_T6P6",
        "outputId": "114536d1-4878-4e42-93b2-fa96cf4e2f75"
      },
      "outputs": [
        {
          "name": "stdout",
          "output_type": "stream",
          "text": [
            "/content/course-deep-learning\n"
          ]
        }
      ],
      "source": [
        "%matplotlib inline\n",
        "%cd course-deep-learning/\n",
        "\n",
        "import gdown\n",
        "import time\n",
        "import torch\n",
        "import torchvision\n",
        "import torchvision.datasets as datasets\n",
        "import matplotlib.pyplot as plt\n",
        "import numpy as np\n",
        "import seaborn as sns\n",
        "from torchsummary import summary\n",
        "from tqdm import tqdm\n",
        "\n",
        "from utils.adversarial_examples import *"
      ]
    },
    {
      "cell_type": "code",
      "execution_count": 4,
      "metadata": {
        "colab": {
          "base_uri": "https://localhost:8080/"
        },
        "id": "Bq8zkap9W1GN",
        "outputId": "ffb2c011-0c5a-4c84-a491-49dc8e0c0be3"
      },
      "outputs": [
        {
          "name": "stdout",
          "output_type": "stream",
          "text": [
            "Cloning into 'AudioMNIST'...\n",
            "remote: Enumerating objects: 30128, done.\u001b[K\n",
            "remote: Counting objects: 100% (9/9), done.\u001b[K\n",
            "remote: Compressing objects: 100% (8/8), done.\u001b[K\n",
            "remote: Total 30128 (delta 3), reused 5 (delta 1), pack-reused 30119 (from 1)\u001b[K\n",
            "Receiving objects: 100% (30128/30128), 944.54 MiB | 22.68 MiB/s, done.\n",
            "Resolving deltas: 100% (29/29), done.\n",
            "Updating files: 100% (30018/30018), done.\n"
          ]
        }
      ],
      "source": [
        "!mkdir ./data/\n",
        "!cd ./data/ && mkdir AudioMNIST\n",
        "\n",
        "!git clone https://github.com/soerenab/AudioMNIST.git\n",
        "!cd .."
      ]
    },
    {
      "cell_type": "code",
      "execution_count": 5,
      "metadata": {
        "colab": {
          "base_uri": "https://localhost:8080/"
        },
        "id": "q5o2llESVRgQ",
        "outputId": "ec843923-995c-4d8b-c785-05ccc8876b60"
      },
      "outputs": [
        {
          "name": "stdout",
          "output_type": "stream",
          "text": [
            "Downloading http://yann.lecun.com/exdb/mnist/train-images-idx3-ubyte.gz\n",
            "Failed to download (trying next):\n",
            "HTTP Error 404: Not Found\n",
            "\n",
            "Downloading https://ossci-datasets.s3.amazonaws.com/mnist/train-images-idx3-ubyte.gz\n",
            "Downloading https://ossci-datasets.s3.amazonaws.com/mnist/train-images-idx3-ubyte.gz to ./data/MNIST/raw/train-images-idx3-ubyte.gz\n"
          ]
        },
        {
          "name": "stderr",
          "output_type": "stream",
          "text": [
            "100%|██████████| 9.91M/9.91M [00:00<00:00, 12.7MB/s]\n"
          ]
        },
        {
          "name": "stdout",
          "output_type": "stream",
          "text": [
            "Extracting ./data/MNIST/raw/train-images-idx3-ubyte.gz to ./data/MNIST/raw\n",
            "\n",
            "Downloading http://yann.lecun.com/exdb/mnist/train-labels-idx1-ubyte.gz\n",
            "Failed to download (trying next):\n",
            "HTTP Error 404: Not Found\n",
            "\n",
            "Downloading https://ossci-datasets.s3.amazonaws.com/mnist/train-labels-idx1-ubyte.gz\n",
            "Downloading https://ossci-datasets.s3.amazonaws.com/mnist/train-labels-idx1-ubyte.gz to ./data/MNIST/raw/train-labels-idx1-ubyte.gz\n"
          ]
        },
        {
          "name": "stderr",
          "output_type": "stream",
          "text": [
            "100%|██████████| 28.9k/28.9k [00:00<00:00, 344kB/s]\n"
          ]
        },
        {
          "name": "stdout",
          "output_type": "stream",
          "text": [
            "Extracting ./data/MNIST/raw/train-labels-idx1-ubyte.gz to ./data/MNIST/raw\n",
            "\n",
            "Downloading http://yann.lecun.com/exdb/mnist/t10k-images-idx3-ubyte.gz\n",
            "Failed to download (trying next):\n",
            "HTTP Error 404: Not Found\n",
            "\n",
            "Downloading https://ossci-datasets.s3.amazonaws.com/mnist/t10k-images-idx3-ubyte.gz\n",
            "Downloading https://ossci-datasets.s3.amazonaws.com/mnist/t10k-images-idx3-ubyte.gz to ./data/MNIST/raw/t10k-images-idx3-ubyte.gz\n"
          ]
        },
        {
          "name": "stderr",
          "output_type": "stream",
          "text": [
            "100%|██████████| 1.65M/1.65M [00:00<00:00, 2.75MB/s]\n"
          ]
        },
        {
          "name": "stdout",
          "output_type": "stream",
          "text": [
            "Extracting ./data/MNIST/raw/t10k-images-idx3-ubyte.gz to ./data/MNIST/raw\n",
            "\n",
            "Downloading http://yann.lecun.com/exdb/mnist/t10k-labels-idx1-ubyte.gz\n",
            "Failed to download (trying next):\n",
            "HTTP Error 404: Not Found\n",
            "\n",
            "Downloading https://ossci-datasets.s3.amazonaws.com/mnist/t10k-labels-idx1-ubyte.gz\n",
            "Downloading https://ossci-datasets.s3.amazonaws.com/mnist/t10k-labels-idx1-ubyte.gz to ./data/MNIST/raw/t10k-labels-idx1-ubyte.gz\n"
          ]
        },
        {
          "name": "stderr",
          "output_type": "stream",
          "text": [
            "100%|██████████| 4.54k/4.54k [00:00<00:00, 5.73MB/s]\n"
          ]
        },
        {
          "name": "stdout",
          "output_type": "stream",
          "text": [
            "Extracting ./data/MNIST/raw/t10k-labels-idx1-ubyte.gz to ./data/MNIST/raw\n",
            "\n"
          ]
        },
        {
          "name": "stderr",
          "output_type": "stream",
          "text": [
            "<ipython-input-5-c691c133a861>:10: FutureWarning: You are using `torch.load` with `weights_only=False` (the current default value), which uses the default pickle module implicitly. It is possible to construct malicious pickle data which will execute arbitrary code during unpickling (See https://github.com/pytorch/pytorch/blob/main/SECURITY.md#untrusted-models for more details). In a future release, the default value for `weights_only` will be flipped to `True`. This limits the functions that could be executed during unpickling. Arbitrary objects will no longer be allowed to be loaded via this mode unless they are explicitly allowlisted by the user via `torch.serialization.add_safe_globals`. We recommend you start setting `weights_only=True` for any use case where you don't have full control of the loaded file. Please open an issue on GitHub for any issues related to this experimental feature.\n",
            "  model.load_state_dict(torch.load('./utils/adversarial_examples/pretrained/mnist_classifier.pt', map_location=device))\n"
          ]
        },
        {
          "name": "stdout",
          "output_type": "stream",
          "text": [
            "----------------------------------------------------------------\n",
            "        Layer (type)               Output Shape         Param #\n",
            "================================================================\n",
            "            Conv2d-1           [-1, 32, 26, 26]             320\n",
            "            Conv2d-2           [-1, 64, 24, 24]          18,496\n",
            "           Dropout-3           [-1, 64, 12, 12]               0\n",
            "            Linear-4                  [-1, 128]       1,179,776\n",
            "           Dropout-5                  [-1, 128]               0\n",
            "            Linear-6                   [-1, 10]           1,290\n",
            "================================================================\n",
            "Total params: 1,199,882\n",
            "Trainable params: 1,199,882\n",
            "Non-trainable params: 0\n",
            "----------------------------------------------------------------\n",
            "Input size (MB): 0.00\n",
            "Forward/backward pass size (MB): 0.52\n",
            "Params size (MB): 4.58\n",
            "Estimated Total Size (MB): 5.10\n",
            "----------------------------------------------------------------\n",
            "None\n",
            "\n",
            "Test Accuracy: 9925/10000 (99%)\n",
            "\n"
          ]
        }
      ],
      "source": [
        "# Adversarial examples: inputs to a model that have been modified, so the model makes an incorrect prediction.\n",
        "# Simple MNIST classifier\n",
        "torch.manual_seed(0)\n",
        "device = torch.device('cuda' if torch.cuda.is_available() else 'cpu')\n",
        "\n",
        "mnist_train, mnist_test = load_mnist() # predefine function call\n",
        "model = MNISTClassifier()\n",
        "model.to(device)\n",
        "# train_mnist(model, mnist_train, mnist_test)\n",
        "model.load_state_dict(torch.load('./utils/adversarial_examples/pretrained/mnist_classifier.pt', map_location=device))\n",
        "print(summary(model, (1,28,28)))\n",
        "# evaluate the model\n",
        "test_mnist(model, device, mnist_test)"
      ]
    },
    {
      "cell_type": "code",
      "execution_count": 6,
      "metadata": {
        "colab": {
          "base_uri": "https://localhost:8080/",
          "height": 297
        },
        "id": "oK3ZXZ2Od9Ur",
        "outputId": "dfe480db-681c-47e3-e063-1fc5fce701f8"
      },
      "outputs": [
        {
          "data": {
            "image/png": "[encoded data removed]",
            "text/plain": [
              "<Figure size 600x250 with 2 Axes>"
            ]
          },
          "metadata": {},
          "output_type": "display_data"
        }
      ],
      "source": [
        "batch_x, batch_y = next(iter(mnist_test)) # batch_x: image pixels: 1*28*28\n",
        "# batch_y: label, prediction: 1\n",
        "batch_x.size(), batch_y.size() # x:[1000,1,28,28]; y: [1000]\n",
        "x, y = batch_x[0].to(device), batch_y[0].to(device)\n",
        "plot_mnist(x, y, model)"
      ]
    },
    {
      "cell_type": "code",
      "execution_count": 7,
      "metadata": {
        "colab": {
          "base_uri": "https://localhost:8080/",
          "height": 297
        },
        "id": "aRt7P1UUfzSh",
        "outputId": "be39079c-32df-4009-80dd-746a2fda4789"
      },
      "outputs": [
        {
          "data": {
            "image/png": "[encoded data removed]",
            "text/plain": [
              "<Figure size 600x250 with 2 Axes>"
            ]
          },
          "metadata": {},
          "output_type": "display_data"
        }
      ],
      "source": [
        "# Adversarial Example:\n",
        "# small pixel-by-pixel modifications,\n",
        "# go unnoticed while changing a neural network's prediction class\n",
        "delta = torch.rand_like(x) * 1.0\n",
        "plot_mnist(x + delta, y, model)"
      ]
    },
    {
      "cell_type": "code",
      "execution_count": 18,
      "metadata": {
        "colab": {
          "base_uri": "https://localhost:8080/",
          "height": 271
        },
        "id": "zN6VbyhGgfIk",
        "outputId": "53b9b70c-be93-4416-bc95-dbf09a52f690"
      },
      "outputs": [
        {
          "name": "stderr",
          "output_type": "stream",
          "text": [
            "<ipython-input-18-9332641a4ac7>:18: UserWarning: The .grad attribute of a Tensor that is not a leaf Tensor is being accessed. Its .grad attribute won't be populated during autograd.backward(). If you indeed want the .grad field to be populated for a non-leaf Tensor, use .retain_grad() on the non-leaf Tensor. If you access the non-leaf Tensor by mistake, make sure you access the leaf Tensor instead. See github.com/pytorch/pytorch/pull/30531 for more informations. (Triggered internally at aten/src/ATen/core/TensorBody.h:489.)\n",
            "  grad = x.grad.detach().cpu()\n"
          ]
        },
        {
          "ename": "AttributeError",
          "evalue": "'NoneType' object has no attribute 'detach'",
          "output_type": "error",
          "traceback": [
            "\u001b[0;31m---------------------------------------------------------------------------\u001b[0m",
            "\u001b[0;31mAttributeError\u001b[0m                            Traceback (most recent call last)",
            "\u001b[0;32m<ipython-input-18-9332641a4ac7>\u001b[0m in \u001b[0;36m<cell line: 0>\u001b[0;34m()\u001b[0m\n\u001b[1;32m     16\u001b[0m \u001b[0;34m\u001b[0m\u001b[0m\n\u001b[1;32m     17\u001b[0m \u001b[0;31m# there is no optimizer.step() because we don't update the x value based on the gradient\u001b[0m\u001b[0;34m\u001b[0m\u001b[0;34m\u001b[0m\u001b[0m\n\u001b[0;32m---> 18\u001b[0;31m \u001b[0mgrad\u001b[0m \u001b[0;34m=\u001b[0m \u001b[0mx\u001b[0m\u001b[0;34m.\u001b[0m\u001b[0mgrad\u001b[0m\u001b[0;34m.\u001b[0m\u001b[0mdetach\u001b[0m\u001b[0;34m(\u001b[0m\u001b[0;34m)\u001b[0m\u001b[0;34m.\u001b[0m\u001b[0mcpu\u001b[0m\u001b[0;34m(\u001b[0m\u001b[0;34m)\u001b[0m\u001b[0;34m\u001b[0m\u001b[0;34m\u001b[0m\u001b[0m\n\u001b[0m\u001b[1;32m     19\u001b[0m \u001b[0mplt\u001b[0m\u001b[0;34m.\u001b[0m\u001b[0mtitle\u001b[0m\u001b[0;34m(\u001b[0m\u001b[0;34m\"Gradient\"\u001b[0m\u001b[0;34m)\u001b[0m\u001b[0;34m\u001b[0m\u001b[0;34m\u001b[0m\u001b[0m\n\u001b[1;32m     20\u001b[0m \u001b[0mplt\u001b[0m\u001b[0;34m.\u001b[0m\u001b[0mimshow\u001b[0m\u001b[0;34m(\u001b[0m\u001b[0mgrad\u001b[0m\u001b[0;34m.\u001b[0m\u001b[0mreshape\u001b[0m\u001b[0;34m(\u001b[0m\u001b[0;36m28\u001b[0m\u001b[0;34m,\u001b[0m \u001b[0;36m28\u001b[0m\u001b[0;34m)\u001b[0m\u001b[0;34m.\u001b[0m\u001b[0mnumpy\u001b[0m\u001b[0;34m(\u001b[0m\u001b[0;34m)\u001b[0m\u001b[0;34m,\u001b[0m \u001b[0mcmap\u001b[0m\u001b[0;34m=\u001b[0m\u001b[0;34m'gray'\u001b[0m\u001b[0;34m)\u001b[0m\u001b[0;34m\u001b[0m\u001b[0;34m\u001b[0m\u001b[0m\n",
            "\u001b[0;31mAttributeError\u001b[0m: 'NoneType' object has no attribute 'detach'"
          ]
        }
      ],
      "source": [
        "# before we used the gradient-based method to guide its output to a desired state\n",
        "# renew the gradient each time,\n",
        "# Now we perform gradient-based updates to an input in order to guide the networks\n",
        "target = torch.tensor([9]).to(device)\n",
        "x = x.reshape(1,1,28,28).requires_grad_(True) # because we need to include the batch dimension\n",
        "x.grad = None\n",
        "# for p in model.parameters():\n",
        "#   p.requires_grad = False # backpropagation not update the parameters,\n",
        "  # because we don't want to update the parameters\n",
        "  # instead we want the input to update the model\n",
        "model.eval()\n",
        "\n",
        "outputs = model(x)\n",
        "loss = torch.nn.functional.nll_loss(outputs, target) # The negative log likelihood loss\n",
        "loss.backward()\n",
        "\n",
        "# there is no optimizer.step() because we don't update the x value based on the gradient\n",
        "grad = x.grad.detach().cpu()\n",
        "plt.title(\"Gradient\")\n",
        "plt.imshow(grad.reshape(28, 28).numpy(), cmap='gray')\n",
        "plt.xticks([]), plt.yticks([])\n",
        "plt.show()"
      ]
    },
    {
      "cell_type": "code",
      "execution_count": 19,
      "metadata": {
        "colab": {
          "base_uri": "https://localhost:8080/",
          "height": 869
        },
        "id": "6YmzngZl7QlS",
        "outputId": "a6b2e97a-3fc9-42df-863b-43579b5c4153"
      },
      "outputs": [
        {
          "name": "stdout",
          "output_type": "stream",
          "text": [
            "Iteration: 10; Prediction: 3\n",
            "Iteration: 20; Prediction: 8\n",
            "Iteration: 30; Prediction: 9\n",
            "Iteration: 40; Prediction: 9\n",
            "Iteration: 50; Prediction: 9\n",
            "Iteration: 60; Prediction: 9\n",
            "Iteration: 70; Prediction: 9\n",
            "Iteration: 80; Prediction: 9\n",
            "Iteration: 90; Prediction: 9\n"
          ]
        },
        {
          "data": {
            "image/png": "[encoded data removed]",
            "text/plain": [
              "<Figure size 600x250 with 2 Axes>"
            ]
          },
          "metadata": {},
          "output_type": "display_data"
        },
        {
          "data": {
            "image/png": "[encoded data removed]",
            "text/plain": [
              "<Figure size 640x480 with 1 Axes>"
            ]
          },
          "metadata": {},
          "output_type": "display_data"
        }
      ],
      "source": [
        "target = torch.tensor([9]).to(device)\n",
        "x = x.reshape(1, 1, 28, 28).detach()\n",
        "# initialize the gradient\n",
        "delta = torch.zeros_like(x).requires_grad_(True)\n",
        "# GAN treated the gradients as input not as\n",
        "for i in range(1,100):\n",
        "# clear gradients each step, delta = None\n",
        "# each loop train the model, compute the loss, according loss function to update the gradient, update the delta.\n",
        "# each time, only retain the value of delta, and clear the gradients.\n",
        "#\n",
        "  delta.grad = None\n",
        "  outputs = model(x + delta)\n",
        "  if not i % 10:\n",
        "    print(f\"Iteration: {i}; Prediction: {outputs.argmax()}\")\n",
        "  loss = torch.nn.functional.nll_loss(outputs, target)\n",
        "  # compute the gradient of loss function\n",
        "  loss.backward()\n",
        "  grad = delta.grad.detach()\n",
        "  with torch.no_grad():\n",
        "    delta -= grad # update delta, not update x\n",
        "plot_mnist(x + delta.detach(), y, model)\n",
        "\n",
        "# plot perturbation (difference between benign and adversarial inputs)\n",
        "plt.title(\"Perturbation\")\n",
        "plt.imshow(delta.detach().cpu().reshape(28, 28).numpy(), cmap='gray')\n",
        "plt.xticks([]), plt.yticks([])\n",
        "plt.show()\n"
      ]
    },
    {
      "cell_type": "code",
      "execution_count": 20,
      "metadata": {
        "colab": {
          "base_uri": "https://localhost:8080/",
          "height": 869
        },
        "id": "e-ySdoC7-9mz",
        "outputId": "fa46a415-773b-46f0-b27d-dcb7fd913702"
      },
      "outputs": [
        {
          "name": "stdout",
          "output_type": "stream",
          "text": [
            "Iteration: 10; Prediction: 1\n",
            "Iteration: 20; Prediction: 1\n",
            "Iteration: 30; Prediction: 1\n",
            "Iteration: 40; Prediction: 1\n",
            "Iteration: 50; Prediction: 9\n",
            "Iteration: 60; Prediction: 9\n",
            "Iteration: 70; Prediction: 9\n",
            "Iteration: 80; Prediction: 9\n",
            "Iteration: 90; Prediction: 9\n"
          ]
        },
        {
          "data": {
            "image/png": "[encoded data removed]",
            "text/plain": [
              "<Figure size 600x250 with 2 Axes>"
            ]
          },
          "metadata": {},
          "output_type": "display_data"
        },
        {
          "data": {
            "image/png": "[encoded data removed]",
            "text/plain": [
              "<Figure size 640x480 with 1 Axes>"
            ]
          },
          "metadata": {},
          "output_type": "display_data"
        }
      ],
      "source": [
        "# We found our perturbation mostly centered.\n",
        "# We try and \"spread\" our perturbation uniformly over the image, we might regulate the allowed perturbation magnitude at each pixel.\n",
        "# This is called Projected Gradient Descent\n",
        "target = torch.tensor([9]).to(device)\n",
        "x = x.reshape(1, 1, 28, 28).detach()\n",
        "# initialize the gradient\n",
        "delta = torch.zeros_like(x).requires_grad_(True)\n",
        "# GAN treated the gradients as input not as\n",
        "for i in range(1,100):\n",
        "# clear gradients each step, delta = None\n",
        "# each loop train the model, compute the loss, according loss function to update the gradient, update the delta.\n",
        "# each time, only retain the value of delta, and clear the gradients.\n",
        "#\n",
        "  delta.grad = None\n",
        "  outputs = model(x + delta)\n",
        "  if not i % 10:\n",
        "    print(f\"Iteration: {i}; Prediction: {outputs.argmax()}\")\n",
        "  loss = torch.nn.functional.nll_loss(outputs, target)\n",
        "  # compute the gradient of loss function\n",
        "  loss.backward()\n",
        "  grad = delta.grad.detach()\n",
        "  with torch.no_grad():\n",
        "# we update for all pixels\n",
        "        delta -= torch.sign(grad) * 0.1\n",
        "        delta.clip_(min=-0.4, max=0.4)\n",
        "# l2 normalization\n",
        "# Lagrangian Relaxation\n",
        "#.      delta -= (grad/grad.norm() + 1e-18) * 0.1\n",
        "plot_mnist(x + delta.detach(), y, model)\n",
        "\n",
        "# plot perturbation (difference between benign and adversarial inputs)\n",
        "plt.title(\"Perturbation\")\n",
        "plt.imshow(delta.detach().cpu().reshape(28, 28).numpy(), cmap='gray')\n",
        "plt.xticks([]), plt.yticks([])\n",
        "plt.show()\n"
      ]
    },
    {
      "cell_type": "markdown",
      "metadata": {
        "id": "8at7_N9HEUVP"
      },
      "source": [
        "__black-box__ optimization approaches can allow attackers to craft adversarial examples with only query access to a victim model.\n",
        "\n",
        "One __adversarial defense__, called __randomized smoothing__, applies random transformations to many copies of an input and takes a majority vote over the model's predictions on the transformed inputs."
      ]
    },
    {
      "cell_type": "code",
      "execution_count": 22,
      "metadata": {
        "colab": {
          "base_uri": "https://localhost:8080/"
        },
        "id": "uZWH2FZ5DtLQ",
        "outputId": "d7b837f5-64d1-47cd-83ec-c6d5087b4e5c"
      },
      "outputs": [
        {
          "name": "stdout",
          "output_type": "stream",
          "text": [
            "Adversarial prediction (randomized smoothing): 9\n"
          ]
        }
      ],
      "source": [
        "# Build the robust model\n",
        "# instead of usually we input the variable \"x + delta\" to the model\n",
        "# we add some randomness to the model x + delta + randomness(x+delta) * 0.001 (randomness weights)\n",
        "adv_input = x + delta\n",
        "noisy_prediction = []\n",
        "for i in range(10):\n",
        "  noisy_prediction.append(model(adv_input + torch.rand_like(adv_input) * 0.001).argmax().item())\n",
        "mode = max(set(noisy_prediction), key=noisy_prediction.count)\n",
        "\n",
        "print(f\"Adversarial prediction (randomized smoothing): {mode}\")\n"
      ]
    },
    {
      "cell_type": "markdown",
      "metadata": {
        "id": "s3GLS26qFjjU"
      },
      "source": [
        "Other adversarial defenses attempt to detect malicious inputs using a variety of heuristics. However, these defenses often fail to provide meaningful guarantees against __adaptive__ attackers with knowledge of the defense. Currently, one of the best known approaches to prevent attacks is __adversarial training__, in which a model is trained on adversarial examples. This can provide some degree of robustness against attacks similar to those seen during training."
      ]
    },
    {
      "cell_type": "code",
      "execution_count": null,
      "metadata": {
        "id": "6oKZHHLoFFy6"
      },
      "outputs": [],
      "source": [
        "# Adversarial training, trained on adversarial examples\n",
        "def make_adversarial_example(x: torch.Tensor, model: torch.nn.Module, steps: int):\n",
        "  assert x.ndim >= 2\n",
        "  n_batch = x.shape[0]\n",
        "  x = x.detach().reshape(n_batch, 1, 16000) # input dimension\n",
        "  delta = torch.zeros_like(x).requires_grad_(True)\n",
        "# obtain original predictions; we'll perform an \"untargeted attack\" in which we applied\n",
        "  with torch.no_grad():\n",
        "    preds = model(x).argmax(dim=-1).long()\n",
        "  model.eval()\n",
        "  for i in range(steps):\n",
        "    delta.grad = None\n",
        "    outputs = model(x + delta)\n",
        "    loss = torch.nn.functional.nll_loss(outputs, preds)\n",
        "    loss.backward()\n",
        "    grad = delta.grad.detach()\n",
        "    with torch.no_grad():\n",
        "      # ascend rather than descent, because we want to generate the untarget attack\n",
        "      delta += (grad/grad.norm() + 1e-18) * 0.005\n",
        "  model.train()\n",
        "  return(x + delta.detach())"
      ]
    },
    {
      "cell_type": "code",
      "execution_count": 38,
      "metadata": {
        "colab": {
          "base_uri": "https://localhost:8080/"
        },
        "id": "cZs5Agn5KAom",
        "outputId": "70e24f46-a148-4b3a-9720-2b3bb8a8bed9"
      },
      "outputs": [
        {
          "name": "stderr",
          "output_type": "stream",
          "text": [
            "/content/course-deep-learning/utils/adversarial_examples/data.py:75: FutureWarning: You are using `torch.load` with `weights_only=False` (the current default value), which uses the default pickle module implicitly. It is possible to construct malicious pickle data which will execute arbitrary code during unpickling (See https://github.com/pytorch/pytorch/blob/main/SECURITY.md#untrusted-models for more details). In a future release, the default value for `weights_only` will be flipped to `True`. This limits the functions that could be executed during unpickling. Arbitrary objects will no longer be allowed to be loaded via this mode unless they are explicitly allowlisted by the user via `torch.serialization.add_safe_globals`. We recommend you start setting `weights_only=True` for any use case where you don't have full control of the loaded file. Please open an issue on GitHub for any issues related to this experimental feature.\n",
            "  tx = torch.load(os.path.join(data_dir, 'audiomnist_tx.pt'))\n",
            "/content/course-deep-learning/utils/adversarial_examples/data.py:76: FutureWarning: You are using `torch.load` with `weights_only=False` (the current default value), which uses the default pickle module implicitly. It is possible to construct malicious pickle data which will execute arbitrary code during unpickling (See https://github.com/pytorch/pytorch/blob/main/SECURITY.md#untrusted-models for more details). In a future release, the default value for `weights_only` will be flipped to `True`. This limits the functions that could be executed during unpickling. Arbitrary objects will no longer be allowed to be loaded via this mode unless they are explicitly allowlisted by the user via `torch.serialization.add_safe_globals`. We recommend you start setting `weights_only=True` for any use case where you don't have full control of the loaded file. Please open an issue on GitHub for any issues related to this experimental feature.\n",
            "  ty = torch.load(os.path.join(data_dir, 'audiomnist_ty.pt'))\n",
            "<ipython-input-38-9bb8713b11ab>:20: FutureWarning: You are using `torch.load` with `weights_only=False` (the current default value), which uses the default pickle module implicitly. It is possible to construct malicious pickle data which will execute arbitrary code during unpickling (See https://github.com/pytorch/pytorch/blob/main/SECURITY.md#untrusted-models for more details). In a future release, the default value for `weights_only` will be flipped to `True`. This limits the functions that could be executed during unpickling. Arbitrary objects will no longer be allowed to be loaded via this mode unless they are explicitly allowlisted by the user via `torch.serialization.add_safe_globals`. We recommend you start setting `weights_only=True` for any use case where you don't have full control of the loaded file. Please open an issue on GitHub for any issues related to this experimental feature.\n",
            "  model.load_state_dict(torch.load('./utils/adversarial_examples/pretrained/audiomnist_classifier.pt', map_location=device))\n"
          ]
        },
        {
          "name": "stdout",
          "output_type": "stream",
          "text": [
            "----------------------------------------------------------------\n",
            "        Layer (type)               Output Shape         Param #\n",
            "================================================================\n",
            "            Conv1d-1           [-1, 100, 16002]             400\n",
            "       BatchNorm1d-2           [-1, 100, 16002]             200\n",
            "              ReLU-3           [-1, 100, 16002]               0\n",
            "         MaxPool1d-4            [-1, 100, 8000]               0\n",
            "            Conv1d-5             [-1, 64, 8000]          19,264\n",
            "       BatchNorm1d-6             [-1, 64, 8000]             128\n",
            "              ReLU-7             [-1, 64, 8000]               0\n",
            "         MaxPool1d-8             [-1, 64, 4000]               0\n",
            "            Conv1d-9            [-1, 128, 4000]          24,704\n",
            "      BatchNorm1d-10            [-1, 128, 4000]             256\n",
            "             ReLU-11            [-1, 128, 4000]               0\n",
            "        MaxPool1d-12            [-1, 128, 2000]               0\n",
            "           Conv1d-13            [-1, 128, 2000]          49,280\n",
            "      BatchNorm1d-14            [-1, 128, 2000]             256\n",
            "             ReLU-15            [-1, 128, 2000]               0\n",
            "        MaxPool1d-16            [-1, 128, 1000]               0\n",
            "           Conv1d-17            [-1, 128, 1000]          49,280\n",
            "      BatchNorm1d-18            [-1, 128, 1000]             256\n",
            "             ReLU-19            [-1, 128, 1000]               0\n",
            "        MaxPool1d-20             [-1, 128, 500]               0\n",
            "           Conv1d-21             [-1, 128, 500]          49,280\n",
            "      BatchNorm1d-22             [-1, 128, 500]             256\n",
            "             ReLU-23             [-1, 128, 500]               0\n",
            "        MaxPool1d-24             [-1, 128, 250]               0\n",
            "           Conv1d-25              [-1, 64, 250]          24,640\n",
            "      BatchNorm1d-26              [-1, 64, 250]             128\n",
            "             ReLU-27              [-1, 64, 250]               0\n",
            "        MaxPool1d-28              [-1, 64, 125]               0\n",
            "           Conv1d-29              [-1, 32, 123]           6,176\n",
            "      BatchNorm1d-30              [-1, 32, 123]              64\n",
            "             ReLU-31              [-1, 32, 123]               0\n",
            "        MaxPool1d-32               [-1, 32, 61]               0\n",
            "           Linear-33                   [-1, 10]          19,530\n",
            "              CNN-34                   [-1, 10]               0\n",
            "================================================================\n",
            "Total params: 244,098\n",
            "Trainable params: 244,098\n",
            "Non-trainable params: 0\n",
            "----------------------------------------------------------------\n",
            "Input size (MB): 0.06\n",
            "Forward/backward pass size (MB): 82.57\n",
            "Params size (MB): 0.93\n",
            "Estimated Total Size (MB): 83.56\n",
            "----------------------------------------------------------------\n"
          ]
        },
        {
          "name": "stderr",
          "output_type": "stream",
          "text": [
            "Validation, batch 47/47: 100%|██████████| 47/47 [00:04<00:00,  9.82it/s]"
          ]
        },
        {
          "name": "stdout",
          "output_type": "stream",
          "text": [
            "\n",
            "Model accuracy: 98.01666666666667\n"
          ]
        },
        {
          "name": "stderr",
          "output_type": "stream",
          "text": [
            "\n"
          ]
        }
      ],
      "source": [
        "torch.manual_seed(0)  # fix random seed\n",
        "\n",
        "# load AudioMNIST dataset (if you opted to download via GitHub, this will cache the dataset as tensors)\n",
        "audiomnist_train, audiomnist_test = load_audiomnist(\"AudioMNIST\")\n",
        "\n",
        "# select device\n",
        "device = torch.device(\"cuda\" if torch.cuda.is_available() else \"cpu\")\n",
        "\n",
        "# load neural network classifier\n",
        "model = AudioNet()\n",
        "model.to(device)\n",
        "\n",
        "# print model summary\n",
        "summary(model, (1, 16000))\n",
        "\n",
        "# uncomment this to train a model yourself!\n",
        "#train_audiomnist(model, device, audiomnist_train, audiomnist_test, epochs=10)\n",
        "\n",
        "# load pretrained weights\n",
        "model.load_state_dict(torch.load('./utils/adversarial_examples/pretrained/audiomnist_classifier.pt', map_location=device))\n",
        "\n",
        "# evaluate model. This may take a while on CPU, and should be ~98%\n",
        "test_audiomnist(model, device, audiomnist_test)"
      ]
    },
    {
      "cell_type": "code",
      "execution_count": 48,
      "metadata": {
        "id": "1E8E9aqZOLIC"
      },
      "outputs": [],
      "source": [
        "def make_adversarial_example(x: torch.Tensor, model: torch.nn.Module, steps: int):\n",
        "\n",
        "    # require batch dimension\n",
        "    assert x.ndim >= 2\n",
        "    n_batch = x.shape[0]\n",
        "\n",
        "    x = x.detach().reshape(n_batch, 1, 16000)\n",
        "    delta = torch.zeros_like(x).requires_grad_(True) # at first, we set delta = 0, having gradients\n",
        "\n",
        "    # obtain original predictions; we'll perform an `untargeted` attack in which we simply\n",
        "    # seek incorrect predictions rather than a specific class\n",
        "    with torch.no_grad():\n",
        "        preds = model(x).argmax(dim=-1).long()\n",
        "\n",
        "    # evaluation mode\n",
        "    model.eval()\n",
        "\n",
        "    for i in range(steps):\n",
        "\n",
        "        delta.grad = None\n",
        "\n",
        "        outputs = model(x + delta)\n",
        "        loss = torch.nn.functional.cross_entropy(outputs, preds)\n",
        "\n",
        "        loss.backward()\n",
        "        grad = delta.grad.detach()\n",
        "\n",
        "        with torch.no_grad():\n",
        "\n",
        "            # ascend rather than descend the gradient (untargeted attack)\n",
        "            delta += (grad/(grad.norm() + 1e-12)) * 0.005\n",
        "\n",
        "    # restore train mode\n",
        "    model.train()\n",
        "\n",
        "    return(x + delta.detach())\n"
      ]
    },
    {
      "cell_type": "code",
      "execution_count": 50,
      "metadata": {
        "colab": {
          "base_uri": "https://localhost:8080/"
        },
        "id": "0F-FKvTbH-Tz",
        "outputId": "5dbf8275-eb58-4916-d3a0-e124126d61a5"
      },
      "outputs": [
        {
          "name": "stderr",
          "output_type": "stream",
          "text": [
            "Epoch 1/5, batch 375/375: 100%|██████████| 375/375 [06:02<00:00,  1.04it/s]\n",
            "Validation, batch 47/47: 100%|██████████| 47/47 [00:05<00:00,  8.57it/s]\n",
            "Epoch 2/5, batch 375/375: 100%|██████████| 375/375 [06:01<00:00,  1.04it/s]\n",
            "Validation, batch 47/47: 100%|██████████| 47/47 [00:05<00:00,  8.40it/s]\n",
            "Epoch 3/5, batch 375/375: 100%|██████████| 375/375 [06:01<00:00,  1.04it/s]\n",
            "Validation, batch 47/47: 100%|██████████| 47/47 [00:05<00:00,  8.72it/s]\n",
            "Epoch 4/5, batch 375/375: 100%|██████████| 375/375 [06:02<00:00,  1.04it/s]\n",
            "Validation, batch 47/47: 100%|██████████| 47/47 [00:05<00:00,  8.67it/s]\n",
            "Epoch 5/5, batch 375/375: 100%|██████████| 375/375 [06:02<00:00,  1.04it/s]\n",
            "Validation, batch 47/47: 100%|██████████| 47/47 [00:05<00:00,  8.51it/s]\n"
          ]
        },
        {
          "name": "stdout",
          "output_type": "stream",
          "text": [
            "New best accuracy: 95.08333333333333; saving model\n"
          ]
        },
        {
          "name": "stderr",
          "output_type": "stream",
          "text": [
            "Validation, batch 47/47: 100%|██████████| 47/47 [00:04<00:00, 10.50it/s]"
          ]
        },
        {
          "name": "stdout",
          "output_type": "stream",
          "text": [
            "\n",
            "Model accuracy: 95.06666666666666\n"
          ]
        },
        {
          "name": "stderr",
          "output_type": "stream",
          "text": [
            "\n"
          ]
        }
      ],
      "source": [
        "attack_step = 5\n",
        "epochs = 5\n",
        "robust_model = AudioNet()\n",
        "robust_model.to(device)\n",
        "\n",
        "optimizer = torch.optim.SGD(\n",
        "    robust_model.parameters(),\n",
        "    lr = 0.001,\n",
        "    momentum=0.9\n",
        ")\n",
        "\n",
        "loss_fn = torch.nn.CrossEntropyLoss()\n",
        "\n",
        "\n",
        "# construct the training model\n",
        "# we will choose the model with best accuracy.\n",
        "best_acc = 0.0\n",
        "train_acc = 0.0\n",
        "best_model = None\n",
        "\n",
        "for epoch in range(epochs):\n",
        "  # track loss\n",
        "  training_loss = 0.0\n",
        "  validation_loss = 0.0\n",
        "  correct = 0\n",
        "  total = 0\n",
        "  pbar = tqdm(audiomnist_train, total = len(audiomnist_train))\n",
        "  model.train()\n",
        "  for batch_x, batch_y in enumerate(pbar):\n",
        "    pbar.set_description(f\"Epoch {epoch+1}/{epochs}, batch {batch_x + 1}/{len(audiomnist_train)}\")\n",
        "    inputs, labels = batch_y\n",
        "    inputs = inputs.to(device)\n",
        "    labels = labels.to(device)\n",
        "    # adversarially perturb inputs\n",
        "    inputs = make_adversarial_example(inputs, robust_model, attack_step)\n",
        "    # forward + backward + optimize\n",
        "    optimizer.zero_grad()\n",
        "    outputs = robust_model(inputs)\n",
        "\n",
        "    loss = loss_fn(outputs, labels)\n",
        "    loss.backward()\n",
        "    optimizer.step()\n",
        "    training_loss += loss.item()\n",
        "  model.eval()\n",
        "  with torch.no_grad():\n",
        "    pbar = tqdm(audiomnist_test, total=len(audiomnist_test))\n",
        "    for batch_idx, batch_data in enumerate(pbar):\n",
        "\n",
        "            pbar.set_description(\n",
        "                f'Validation, batch {batch_idx + 1}/{len(audiomnist_test)}')\n",
        "\n",
        "            inputs, labels = batch_data\n",
        "\n",
        "            inputs = inputs.to(device)\n",
        "            labels = labels.to(device)\n",
        "\n",
        "            outputs = robust_model(inputs)\n",
        "\n",
        "            loss = loss_fn(outputs, labels)\n",
        "\n",
        "            # sum validation loss\n",
        "            validation_loss += loss.item()\n",
        "\n",
        "            # calculate validation accuracy\n",
        "            preds = torch.max(outputs.data, 1)[1]\n",
        "\n",
        "            total += labels.size(0)\n",
        "            correct += (preds == labels).sum().item()\n",
        "\n",
        "    # calculate final metrics\n",
        "    validation_loss /= len(audiomnist_test)\n",
        "    training_loss /= len(audiomnist_train)\n",
        "    accuracy = 100 * correct / total\n",
        "if accuracy > best_acc:\n",
        "    print(f\"New best accuracy: {accuracy}; saving model\")\n",
        "    best_model = copy.deepcopy(robust_model.state_dict())\n",
        "    best_acc = accuracy\n",
        "\n",
        "# use best weights\n",
        "robust_model.load_state_dict(best_model)\n",
        "\n",
        "# evaluate robust model's accuracy on \"natural\" (non-adversarial) data\n",
        "test_audiomnist(robust_model, device, audiomnist_test)\n",
        "\n",
        "\n"
      ]
    },
    {
      "cell_type": "code",
      "execution_count": null,
      "metadata": {
        "id": "i5KLUqa_LXCz"
      },
      "outputs": [],
      "source": []
    }
  ],
  "metadata": {
    "accelerator": "GPU",
    "colab": {
      "gpuType": "T4",
      "provenance": []
    },
    "kernelspec": {
      "display_name": "Python 3",
      "name": "python3"
    },
    "language_info": {
      "name": "python"
    }
  },
  "nbformat": 4,
  "nbformat_minor": 0
}
